{
  "nbformat": 4,
  "nbformat_minor": 0,
  "metadata": {
    "colab": {
      "name": "scalesim_tutorial1_template.ipynb",
      "provenance": [],
      "authorship_tag": "ABX9TyO7wiSjPRxZkkccNcXaHP+B",
      "include_colab_link": true
    },
    "kernelspec": {
      "name": "python3",
      "display_name": "Python 3"
    },
    "language_info": {
      "name": "python"
    }
  },
  "cells": [
    {
      "cell_type": "markdown",
      "metadata": {
        "id": "view-in-github",
        "colab_type": "text"
      },
      "source": [
        "<a href=\"https://colab.research.google.com/github/scalesim-project/scalesim-tutorial-materials/blob/main/scalesim_tutorial1_template.ipynb\" target=\"_parent\"><img src=\"https://colab.research.google.com/assets/colab-badge.svg\" alt=\"Open In Colab\"/></a>"
      ]
    },
    {
      "cell_type": "code",
      "metadata": {
        "id": "cmUGW985pMTx"
      },
      "source": [
        "!pip install scalesim==2.0.1"
      ],
      "execution_count": null,
      "outputs": []
    },
    {
      "cell_type": "code",
      "metadata": {
        "id": "S8SAbnyHpXJj"
      },
      "source": [
        "import math\n",
        "import numpy as np\n",
        "import matplotlib.pyplot as plt"
      ],
      "execution_count": null,
      "outputs": []
    },
    {
      "cell_type": "code",
      "metadata": {
        "id": "5OcqRlRYpac1"
      },
      "source": [
        "from scalesim.scale_sim import scalesim\n",
        "from scalesim.utilities.scalesim_report import ScalesimReport as reporter"
      ],
      "execution_count": null,
      "outputs": []
    },
    {
      "cell_type": "code",
      "metadata": {
        "id": "qL739XhvpfEc"
      },
      "source": [
        "tutorial_path = '/content/drive/MyDrive/scalesim_resources/2021-ASPLOS-Tutorial/tutorial1'"
      ],
      "execution_count": null,
      "outputs": []
    },
    {
      "cell_type": "code",
      "metadata": {
        "id": "yXEWiRhYpjNe"
      },
      "source": [
        "def plot_stacked_bar(x, y_series_np, legends, title, y_axis_label=''):\n",
        "    num_plots = y_series_np.shape[0]\n",
        "    plt.bar(x, y_series_np[0], label=legends[0])\n",
        "    bottom = y_series_np[0]\n",
        "    for plt_id in range(1, num_plots):\n",
        "        plt.bar(x, y_series_np[plt_id], bottom=bottom,label=legends[plt_id])\n",
        "        bottom += y_series_np[plt_id]\n",
        "\n",
        "    plt.ylabel(y_axis_label)\n",
        "    plt.title(title)\n",
        "    plt.xticks(rotation=80)\n",
        "    plt.legend()\n",
        "\n",
        "    plt.show()"
      ],
      "execution_count": null,
      "outputs": []
    },
    {
      "cell_type": "markdown",
      "metadata": {
        "id": "Gw-Ff62spkI4"
      },
      "source": [
        "# Insert code for run_scale_sim() method"
      ]
    },
    {
      "cell_type": "code",
      "metadata": {
        "id": "BjPCiWhGpqzP"
      },
      "source": [
        ""
      ],
      "execution_count": null,
      "outputs": []
    },
    {
      "cell_type": "markdown",
      "metadata": {
        "id": "V12G35o1prZ5"
      },
      "source": [
        "# Insert code for compare_dataflows() method\n"
      ]
    },
    {
      "cell_type": "code",
      "metadata": {
        "id": "hiYLQxHmp4N4"
      },
      "source": [
        ""
      ],
      "execution_count": null,
      "outputs": []
    },
    {
      "cell_type": "markdown",
      "metadata": {
        "id": "vl7m44WGp5HQ"
      },
      "source": [
        "Insert code for compare aspect_ratios() method"
      ]
    },
    {
      "cell_type": "code",
      "metadata": {
        "id": "S3hooHyHp-aV"
      },
      "source": [
        ""
      ],
      "execution_count": null,
      "outputs": []
    }
  ]
}