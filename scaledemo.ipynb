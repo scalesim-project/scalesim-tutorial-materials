{
  "nbformat": 4,
  "nbformat_minor": 0,
  "metadata": {
    "colab": {
      "name": "scaledemo.ipynb",
      "provenance": [],
      "collapsed_sections": [],
      "toc_visible": true,
      "mount_file_id": "1ORfJNXHRRlVSTL0R4kGJX-1a-YXnOKj1",
      "authorship_tag": "ABX9TyOFPA+ckqWiHeuqG1dE9Pn/",
      "include_colab_link": true
    },
    "kernelspec": {
      "name": "python3",
      "display_name": "Python 3"
    }
  },
  "cells": [
    {
      "cell_type": "markdown",
      "metadata": {
        "id": "view-in-github",
        "colab_type": "text"
      },
      "source": [
        "<a href=\"https://colab.research.google.com/github/scalesim-project/scalesim-tutorial-materials/blob/main/scaledemo.ipynb\" target=\"_parent\"><img src=\"https://colab.research.google.com/assets/colab-badge.svg\" alt=\"Open In Colab\"/></a>"
      ]
    },
    {
      "cell_type": "markdown",
      "metadata": {
        "id": "ZHjuM-OJG0ut"
      },
      "source": [
        "#**SCALE Sim Demo**\n",
        "\n",
        "This notebook demonstrates step to setup SCALE-Sim from scratch and launch a run"
      ]
    },
    {
      "cell_type": "markdown",
      "metadata": {
        "id": "5JiYkodELa-x"
      },
      "source": [
        "#**Get the scalesim package**\n",
        "\n",
        "If your project does not require modifying scalesim then this should be sufficient. Although when you need it, the code is just one clone away on [github](https://github.com/scalesim-project/scale-sim-v2)! "
      ]
    },
    {
      "cell_type": "code",
      "metadata": {
        "colab": {
          "base_uri": "https://localhost:8080/"
        },
        "id": "7JC_LwchHCvU",
        "outputId": "58801d58-50bc-4a0b-c478-b7455cd3330e"
      },
      "source": [
        "!pip install scalesim"
      ],
      "execution_count": 1,
      "outputs": [
        {
          "output_type": "stream",
          "text": [
            "Collecting scalesim\n",
            "\u001b[?25l  Downloading https://files.pythonhosted.org/packages/97/55/9a332e4d0c14b270ff8af5fb4a79b7c720a6b46dc593a0c82654adc038e5/scalesim-2.0.1-py3-none-any.whl (53kB)\n",
            "\r\u001b[K     |██████▏                         | 10kB 11.6MB/s eta 0:00:01\r\u001b[K     |████████████▎                   | 20kB 12.2MB/s eta 0:00:01\r\u001b[K     |██████████████████▍             | 30kB 10.1MB/s eta 0:00:01\r\u001b[K     |████████████████████████▌       | 40kB 7.1MB/s eta 0:00:01\r\u001b[K     |██████████████████████████████▋ | 51kB 4.6MB/s eta 0:00:01\r\u001b[K     |████████████████████████████████| 61kB 3.2MB/s \n",
            "\u001b[?25hRequirement already satisfied: tqdm in /usr/local/lib/python3.7/dist-packages (from scalesim) (4.41.1)\n",
            "Requirement already satisfied: pandas in /usr/local/lib/python3.7/dist-packages (from scalesim) (1.1.5)\n",
            "Requirement already satisfied: numpy in /usr/local/lib/python3.7/dist-packages (from scalesim) (1.19.5)\n",
            "Requirement already satisfied: absl-py in /usr/local/lib/python3.7/dist-packages (from scalesim) (0.12.0)\n",
            "Collecting configparser\n",
            "  Downloading https://files.pythonhosted.org/packages/fd/01/ff260a18caaf4457eb028c96eeb405c4a230ca06c8ec9c1379f813caa52e/configparser-5.0.2-py3-none-any.whl\n",
            "Requirement already satisfied: python-dateutil>=2.7.3 in /usr/local/lib/python3.7/dist-packages (from pandas->scalesim) (2.8.1)\n",
            "Requirement already satisfied: pytz>=2017.2 in /usr/local/lib/python3.7/dist-packages (from pandas->scalesim) (2018.9)\n",
            "Requirement already satisfied: six in /usr/local/lib/python3.7/dist-packages (from absl-py->scalesim) (1.15.0)\n",
            "Installing collected packages: configparser, scalesim\n",
            "Successfully installed configparser-5.0.2 scalesim-2.0.1\n"
          ],
          "name": "stdout"
        }
      ]
    },
    {
      "cell_type": "markdown",
      "metadata": {
        "id": "arJIwXC4Mv92"
      },
      "source": [
        "#**Linking the inputs**\n",
        "\n",
        "SCALE-Sim uses two inputs to work\n",
        "\n",
        "1.   First is a config file like `scale.cfg` below. The config file describes the architecture, dataflow and a few modes for the tool to run.\n",
        "\n",
        "\n",
        "2.   Second is a CSV file, which specifies workloads as neural network layer parameters. In our example, this file is the `alexnet_part.csv`, which captures the description of the first convolution layer in Alexnet.\n",
        "\n"
      ]
    },
    {
      "cell_type": "code",
      "metadata": {
        "id": "F9_LhAWJHIls"
      },
      "source": [
        "from scalesim.scale_sim import scalesim\n",
        "\n",
        "content_path = \"/content/drive/MyDrive/scalesim_resources\"\n",
        "config = content_path + \"/configs/scale_user.cfg\"\n",
        "topo = content_path + \"/topologies/conv_nets/alexnet_part.csv\"\n"
      ],
      "execution_count": 2,
      "outputs": []
    },
    {
      "cell_type": "markdown",
      "metadata": {
        "id": "fWMLD2XdOgGm"
      },
      "source": [
        "#**Instantiating the simulator object**\n",
        "\n",
        "Here we create an object of the SCALE-Sim calls, and pass the paths to input files. We also set the tool to run in a verbose mode and signal it to generate trace files as well (save_disk_space=True, will suppress trace generation)"
      ]
    },
    {
      "cell_type": "code",
      "metadata": {
        "id": "1LaF5TP7IeIq"
      },
      "source": [
        "top = \"/content/drive/MyDrive/test_run\"\n",
        "s = scalesim(save_disk_space=False, verbose=True,\n",
        "              config=config,\n",
        "              topology=topo\n",
        "              )\n"
      ],
      "execution_count": 3,
      "outputs": []
    },
    {
      "cell_type": "markdown",
      "metadata": {
        "id": "k6xoYHifPT_L"
      },
      "source": [
        "#**Run Simulation**\n",
        "\n",
        "That's it, now we run the simulation with the following call. "
      ]
    },
    {
      "cell_type": "code",
      "metadata": {
        "colab": {
          "base_uri": "https://localhost:8080/"
        },
        "id": "fIMP7-27PODo",
        "outputId": "6959a330-536e-477c-9de4-6a5746adc830"
      },
      "source": [
        "s.run_scale(top_path=top)"
      ],
      "execution_count": 4,
      "outputs": [
        {
          "output_type": "stream",
          "text": [
            "====================================================\n",
            "******************* SCALE SIM **********************\n",
            "====================================================\n",
            "Array Size: \t32x32\n",
            "SRAM IFMAP (kB): \t64\n",
            "SRAM Filter (kB): \t64\n",
            "SRAM OFMAP (kB): \t64\n",
            "Dataflow: \tWeight Stationary\n",
            "CSV file path: \t/content/drive/MyDrive/scalesim_resources/topologies/conv_nets/alexnet_part.csv\n",
            "Number of Remote Memory Banks: \t1\n",
            "Bandwidth: \t10\n",
            "Working in USE USER BANDWIDTH mode.\n",
            "====================================================\n",
            "\n",
            "Running Layer 0\n"
          ],
          "name": "stdout"
        },
        {
          "output_type": "stream",
          "text": [
            "100%|██████████| 112284/112284 [00:59<00:00, 1893.41it/s]\n"
          ],
          "name": "stderr"
        },
        {
          "output_type": "stream",
          "text": [
            "Compute cycles: 439609\n",
            "Stall cycles: 327326\n",
            "Overall utilization: 23.42%\n",
            "Mapping efficiency: 94.53%\n",
            "Average IFMAP DRAM BW: 9.997 words/cycle\n",
            "Average Filter DRAM BW: 9.998 words/cycle\n",
            "Average OFMAP DRAM BW: 7.907 words/cycle\n",
            "Saving traces: Done!\n",
            "************ SCALE SIM Run Complete ****************\n"
          ],
          "name": "stdout"
        }
      ]
    }
  ]
}