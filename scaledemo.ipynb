{
  "nbformat": 4,
  "nbformat_minor": 0,
  "metadata": {
    "colab": {
      "name": "scaledemo.ipynb",
      "provenance": [],
      "collapsed_sections": [],
      "mount_file_id": "1ORfJNXHRRlVSTL0R4kGJX-1a-YXnOKj1",
      "authorship_tag": "ABX9TyMDDjgFRwqSW9tBuH7fJWLO",
      "include_colab_link": true
    },
    "kernelspec": {
      "name": "python3",
      "display_name": "Python 3"
    }
  },
  "cells": [
    {
      "cell_type": "markdown",
      "metadata": {
        "id": "view-in-github",
        "colab_type": "text"
      },
      "source": [
        "<a href=\"https://colab.research.google.com/github/scalesim-project/scalesim-tutorial-materials/blob/main/scaledemo.ipynb\" target=\"_parent\"><img src=\"https://colab.research.google.com/assets/colab-badge.svg\" alt=\"Open In Colab\"/></a>"
      ]
    },
    {
      "cell_type": "markdown",
      "metadata": {
        "id": "ZHjuM-OJG0ut"
      },
      "source": [
        "SCALE Sim Demo\n",
        "\n",
        "This notebook demonstrates a simple scale sim run."
      ]
    },
    {
      "cell_type": "code",
      "metadata": {
        "colab": {
          "base_uri": "https://localhost:8080/"
        },
        "id": "7JC_LwchHCvU",
        "outputId": "414417ac-fadf-4833-89c6-c0a0c68b8443"
      },
      "source": [
        "!pip install scalesim"
      ],
      "execution_count": null,
      "outputs": [
        {
          "output_type": "stream",
          "text": [
            "Collecting scalesim\n",
            "\u001b[?25l  Downloading https://files.pythonhosted.org/packages/68/cf/c8f6f230b830f02f18707d4a94d48bd4d05a94d055309abdd9452e766208/scalesim-2.0-py3-none-any.whl (44kB)\n",
            "\r\u001b[K     |███████▎                        | 10kB 15.4MB/s eta 0:00:01\r\u001b[K     |██████████████▋                 | 20kB 13.4MB/s eta 0:00:01\r\u001b[K     |██████████████████████          | 30kB 9.2MB/s eta 0:00:01\r\u001b[K     |█████████████████████████████▎  | 40kB 7.8MB/s eta 0:00:01\r\u001b[K     |████████████████████████████████| 51kB 2.7MB/s \n",
            "\u001b[?25hRequirement already satisfied: absl-py in /usr/local/lib/python3.7/dist-packages (from scalesim) (0.10.0)\n",
            "Requirement already satisfied: numpy in /usr/local/lib/python3.7/dist-packages (from scalesim) (1.19.5)\n",
            "Collecting configparser\n",
            "  Downloading https://files.pythonhosted.org/packages/fd/01/ff260a18caaf4457eb028c96eeb405c4a230ca06c8ec9c1379f813caa52e/configparser-5.0.2-py3-none-any.whl\n",
            "Requirement already satisfied: tqdm in /usr/local/lib/python3.7/dist-packages (from scalesim) (4.41.1)\n",
            "Requirement already satisfied: six in /usr/local/lib/python3.7/dist-packages (from absl-py->scalesim) (1.15.0)\n",
            "Installing collected packages: configparser, scalesim\n",
            "Successfully installed configparser-5.0.2 scalesim-2.0\n"
          ],
          "name": "stdout"
        }
      ]
    },
    {
      "cell_type": "code",
      "metadata": {
        "id": "F9_LhAWJHIls"
      },
      "source": [
        "from scalesim.scale_sim import scalesim\n",
        "\n",
        "content_path = \"/content/drive/MyDrive/scalesim_resources\"\n",
        "config = content_path + \"/configs/scale.cfg\"\n",
        "topo = content_path + \"/topologies/conv_nets/alexnet_part.csv\"\n"
      ],
      "execution_count": null,
      "outputs": []
    },
    {
      "cell_type": "code",
      "metadata": {
        "colab": {
          "base_uri": "https://localhost:8080/"
        },
        "id": "1LaF5TP7IeIq",
        "outputId": "8b644701-a2d6-4d80-a708-7737c7682345"
      },
      "source": [
        "top = \"/content/drive/MyDrive/test_run\"\n",
        "s = scalesim(save_disk_space=False, verbose=True,\n",
        "              config=config,\n",
        "              topology=topo\n",
        "              )\n",
        "s.run_scale(top_path=top)"
      ],
      "execution_count": null,
      "outputs": [
        {
          "output_type": "stream",
          "text": [
            "====================================================\n",
            "******************* SCALE SIM **********************\n",
            "====================================================\n",
            "Array Size: \t32x32\n",
            "SRAM IFMAP (kB): \t64\n",
            "SRAM Filter (kB): \t64\n",
            "SRAM OFMAP (kB): \t64\n",
            "Dataflow: \tWeight Stationary\n",
            "CSV file path: \t/content/drive/MyDrive/scalesim_resources/topologies/conv_nets/alexnet_part.csv\n",
            "Number of Remote Memory Banks: \t1\n",
            "Working in ESTIMATE BANDWIDTH mode.\n",
            "====================================================\n",
            "\n",
            "Running Layer 0\n"
          ],
          "name": "stdout"
        },
        {
          "output_type": "stream",
          "text": [
            "100%|██████████| 112284/112284 [00:45<00:00, 2460.40it/s]\n"
          ],
          "name": "stderr"
        },
        {
          "output_type": "stream",
          "text": [
            "Compute cycles: 138802\n",
            "Stall cycles: 26519\n",
            "Overall utilization: 74.17%\n",
            "Mapping efficiency: 94.53%\n",
            "Average IFMAP DRAM BW: 31.969 words/cycle\n",
            "Average Filter DRAM BW: 31.984 words/cycle\n",
            "Average OFMAP DRAM BW: 25.242 words/cycle\n",
            "Saving traces: Done!\n",
            "************ SCALE SIM Run Complete ****************\n"
          ],
          "name": "stdout"
        }
      ]
    }
  ]
}